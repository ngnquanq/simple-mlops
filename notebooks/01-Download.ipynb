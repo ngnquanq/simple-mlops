{
 "cells": [
  {
   "cell_type": "code",
   "execution_count": 8,
   "metadata": {},
   "outputs": [
    {
     "name": "stdout",
     "output_type": "stream",
     "text": [
      "Dataset URL: https://www.kaggle.com/datasets/kashnitsky/mlcourse\n",
      "License(s): CC-BY-NC-SA-4.0\n",
      "Downloading telecom_churn.csv to ../data\n",
      "\n"
     ]
    },
    {
     "name": "stderr",
     "output_type": "stream",
     "text": [
      "\n",
      "  0%|          | 0.00/273k [00:00<?, ?B/s]\n",
      "100%|██████████| 273k/273k [00:01<00:00, 273kB/s]\n",
      "100%|██████████| 273k/273k [00:01<00:00, 273kB/s]\n"
     ]
    }
   ],
   "source": [
    "# Load and read the json file\n",
    "import json\n",
    "import os\n",
    "json_path = r'../secret.json'\n",
    "f = open(json_path)\n",
    "key = json.load(f)\n",
    "# Set the environment variables \n",
    "os.environ['KAGGLE_USERNAME'] = key['kaggle']['username']\n",
    "os.environ['KAGGLE_KEY'] = key['kaggle']['key']\n",
    "!kaggle datasets download kashnitsky/mlcourse -f telecom_churn.csv -p ../data"
   ]
  }
 ],
 "metadata": {
  "kernelspec": {
   "display_name": "Python 3",
   "language": "python",
   "name": "python3"
  },
  "language_info": {
   "codemirror_mode": {
    "name": "ipython",
    "version": 3
   },
   "file_extension": ".py",
   "mimetype": "text/x-python",
   "name": "python",
   "nbconvert_exporter": "python",
   "pygments_lexer": "ipython3",
   "version": "3.10.0"
  }
 },
 "nbformat": 4,
 "nbformat_minor": 2
}
